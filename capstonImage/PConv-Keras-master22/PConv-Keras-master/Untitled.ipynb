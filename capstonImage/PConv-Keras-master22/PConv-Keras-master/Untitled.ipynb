{
 "cells": [
  {
   "cell_type": "code",
   "execution_count": 4,
   "metadata": {},
   "outputs": [
    {
     "name": "stdout",
     "output_type": "stream",
     "text": [
      "load model...\n",
      "processing...\n",
      "completed!\n"
     ]
    }
   ],
   "source": [
    "import cv2\n",
    "import numpy as np\n",
    "\n",
    "from Sketcher import Sketcher\n",
    "from libs.util import MaskGenerator, ImageChunker\n",
    "from libs.pconv_model import PConvUnet\n",
    "\n",
    "import sys\n",
    "from copy import deepcopy\n",
    "\n",
    "print('load model...')\n",
    "model = PConvUnet(vgg_weights=None, inference_only=True)\n",
    "model.load('pconv_imagenet.h5', train_bn=False)\n",
    "# model.summary()\n",
    "\n",
    "#img = cv2.imread(sys.argv[1], cv2.IMREAD_COLOR)\n",
    "img = cv2.imread('data/images/04.jpg', cv2.IMREAD_COLOR)\n",
    "\n",
    "img_masked = img.copy()\n",
    "mask = np.zeros(img.shape[:2], np.uint8)\n",
    "\n",
    "sketcher = Sketcher('image', [img_masked, mask], lambda : ((255, 255, 255), 255))\n",
    "chunker = ImageChunker(512, 512, 30)\n",
    "\n",
    "while True:\n",
    "  key = cv2.waitKey()\n",
    "\n",
    "  if key == ord('q'): # quit\n",
    "    break\n",
    "  if key == ord('r'): # reset\n",
    "    print('reset')\n",
    "    img_masked[:] = img\n",
    "    mask[:] = 0\n",
    "    sketcher.show()\n",
    "  if key == 32: # hit spacebar to run inpainting\n",
    "    input_img = img_masked.copy()\n",
    "    input_img = input_img.astype(np.float32) / 255.\n",
    "\n",
    "    input_mask = cv2.bitwise_not(mask)\n",
    "    input_mask = input_mask.astype(np.float32) / 255.\n",
    "    input_mask = np.repeat(np.expand_dims(input_mask, axis=-1), repeats=3, axis=-1)\n",
    "\n",
    "    # cv2.imshow('input_img', input_img)\n",
    "    # cv2.imshow('input_mask', input_mask)\n",
    "\n",
    "    print('processing...')\n",
    "\n",
    "    chunked_imgs = chunker.dimension_preprocess(deepcopy(input_img))\n",
    "    chunked_masks = chunker.dimension_preprocess(deepcopy(input_mask))\n",
    "\n",
    "    # for i, im in enumerate(chunked_imgs):\n",
    "    #   cv2.imshow('im %s' % i, im)\n",
    "    #   cv2.imshow('mk %s' % i, chunked_masks[i])\n",
    "\n",
    "    pred_imgs = model.predict([chunked_imgs, chunked_masks])\n",
    "    result_img = chunker.dimension_postprocess(pred_imgs, input_img)\n",
    "\n",
    "    print('completed!')\n",
    "\n",
    "    cv2.imshow('result', result_img)\n",
    "\n",
    "cv2.destroyAllWindows()\n"
   ]
  },
  {
   "cell_type": "code",
   "execution_count": null,
   "metadata": {
    "collapsed": true
   },
   "outputs": [],
   "source": []
  }
 ],
 "metadata": {
  "kernelspec": {
   "display_name": "Python 3",
   "language": "python",
   "name": "python3"
  },
  "language_info": {
   "codemirror_mode": {
    "name": "ipython",
    "version": 3
   },
   "file_extension": ".py",
   "mimetype": "text/x-python",
   "name": "python",
   "nbconvert_exporter": "python",
   "pygments_lexer": "ipython3",
   "version": "3.6.1"
  }
 },
 "nbformat": 4,
 "nbformat_minor": 2
}
